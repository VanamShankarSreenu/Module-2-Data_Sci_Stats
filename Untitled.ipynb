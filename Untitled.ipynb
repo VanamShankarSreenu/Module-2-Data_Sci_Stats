{
 "cells": [
  {
   "cell_type": "code",
   "execution_count": 68,
   "id": "adb27c99",
   "metadata": {},
   "outputs": [],
   "source": [
    "import pandas as pd\n",
    "import matplotlib.pyplot as plt\n",
    "import numpy as np\n",
    "import warnings\n",
    "import seaborn as sns\n",
    "sns.set_theme(style=\"whitegrid\")\n"
   ]
  },
  {
   "cell_type": "markdown",
   "id": "a2c7dd3f",
   "metadata": {},
   "source": [
    "# Data Exploration: Data Handling and Formatting"
   ]
  },
  {
   "cell_type": "code",
   "execution_count": 69,
   "id": "3696fa64",
   "metadata": {},
   "outputs": [],
   "source": [
    "def formatter(s, dict):\n",
    "    i, j = 0, 0\n",
    "    n = len(s)\n",
    "    res = []\n",
    "    while i < n and j < n:\n",
    "        if s[j] != ';' and s[j] != '|':\n",
    "            j = j+1\n",
    "        else:\n",
    "            substr = s[i:j].lower()\n",
    "            if s[j] == '|':\n",
    "                j = j+2\n",
    "                i = j\n",
    "            else:\n",
    "                j = j+1\n",
    "                i = j\n",
    "            res.append(substr.strip())\n",
    "    res.append(s[i:j].strip().lower())\n",
    "    frmt_string = res\n",
    "    for val in frmt_string:\n",
    "        val = val.strip()\n",
    "        if dict.get(val)==None:\n",
    "            dict[val]=1\n",
    "        else:\n",
    "            dict[val]=dict[val]+1\n",
    "    return dict, frmt_string"
   ]
  },
  {
   "cell_type": "markdown",
   "id": "05d85a73",
   "metadata": {},
   "source": [
    "Create a list of unique flavors based on your analysis. What is the total number \n",
    "of unique flavors in your list?"
   ]
  },
  {
   "cell_type": "code",
   "execution_count": 58,
   "id": "61b8d414",
   "metadata": {},
   "outputs": [],
   "source": [
    "# a list of unique flavors based on your analysis. What is the total number\n",
    "# of unique flavors in your list?\n",
    "def tot_no_of_uniq_flav(df):\n",
    "    flav = df['flavor'].to_list()\n",
    "    dict = {}\n",
    "    for i in range(0, len(flav)):\n",
    "        s = str(flav[i])\n",
    "        dict, _ = formatter(s, dict)\n",
    "    return list(dict),len(dict)"
   ]
  },
  {
   "cell_type": "code",
   "execution_count": 133,
   "id": "9a329003",
   "metadata": {},
   "outputs": [
    {
     "name": "stdout",
     "output_type": "stream",
     "text": [
      "total no of flavors =  766\n",
      "\n"
     ]
    },
    {
     "data": {
      "text/html": [
       "<div>\n",
       "<style scoped>\n",
       "    .dataframe tbody tr th:only-of-type {\n",
       "        vertical-align: middle;\n",
       "    }\n",
       "\n",
       "    .dataframe tbody tr th {\n",
       "        vertical-align: top;\n",
       "    }\n",
       "\n",
       "    .dataframe thead th {\n",
       "        text-align: right;\n",
       "    }\n",
       "</style>\n",
       "<table border=\"1\" class=\"dataframe\">\n",
       "  <thead>\n",
       "    <tr style=\"text-align: right;\">\n",
       "      <th></th>\n",
       "      <th>flavor name</th>\n",
       "    </tr>\n",
       "  </thead>\n",
       "  <tbody>\n",
       "    <tr>\n",
       "      <th>0</th>\n",
       "      <td>herbs, not specified</td>\n",
       "    </tr>\n",
       "    <tr>\n",
       "      <th>1</th>\n",
       "      <td>fruit, not specified</td>\n",
       "    </tr>\n",
       "    <tr>\n",
       "      <th>2</th>\n",
       "      <td>lemon</td>\n",
       "    </tr>\n",
       "    <tr>\n",
       "      <th>3</th>\n",
       "      <td>honey</td>\n",
       "    </tr>\n",
       "    <tr>\n",
       "      <th>4</th>\n",
       "      <td>ginger</td>\n",
       "    </tr>\n",
       "    <tr>\n",
       "      <th>...</th>\n",
       "      <td>...</td>\n",
       "    </tr>\n",
       "    <tr>\n",
       "      <th>761</th>\n",
       "      <td>cabbage, chinese</td>\n",
       "    </tr>\n",
       "    <tr>\n",
       "      <th>762</th>\n",
       "      <td>mint, black</td>\n",
       "    </tr>\n",
       "    <tr>\n",
       "      <th>763</th>\n",
       "      <td>sriracha</td>\n",
       "    </tr>\n",
       "    <tr>\n",
       "      <th>764</th>\n",
       "      <td>pickle</td>\n",
       "    </tr>\n",
       "    <tr>\n",
       "      <th>765</th>\n",
       "      <td>soda</td>\n",
       "    </tr>\n",
       "  </tbody>\n",
       "</table>\n",
       "<p>766 rows × 1 columns</p>\n",
       "</div>"
      ],
      "text/plain": [
       "              flavor name\n",
       "0    herbs, not specified\n",
       "1    fruit, not specified\n",
       "2                   lemon\n",
       "3                   honey\n",
       "4                  ginger\n",
       "..                    ...\n",
       "761      cabbage, chinese\n",
       "762           mint, black\n",
       "763              sriracha\n",
       "764                pickle\n",
       "765                  soda\n",
       "\n",
       "[766 rows x 1 columns]"
      ]
     },
     "execution_count": 133,
     "metadata": {},
     "output_type": "execute_result"
    }
   ],
   "source": [
    "df = pd.read_csv('Product Launch Dataset.csv', encoding='latin-1')\n",
    "flav_list,to_no_of_flav= tot_no_of_uniq_flav(df)\n",
    "print(\"total no of flavors = \",to_no_of_flav)\n",
    "print()\n",
    "pd.DataFrame(flav_list,columns=['flavor name'])"
   ]
  },
  {
   "cell_type": "markdown",
   "id": "26e97545",
   "metadata": {},
   "source": [
    "Plot histogram of market subcategory against eventdate (years). Do any \n",
    "categories show negative trend over years?"
   ]
  },
  {
   "cell_type": "code",
   "execution_count": 134,
   "id": "324f9d99",
   "metadata": {},
   "outputs": [],
   "source": [
    "# histogram of market subcategory against eventdate (years). Do any\n",
    "# categories show negative trend over years?\n",
    "def histogram(df):\n",
    "    df['eventdate'] = pd.to_datetime(df['eventdate'], format='%m-%d-%Y')\n",
    "    df['eventdate'] = pd. DatetimeIndex(df['eventdate']). year\n",
    "    df = df.groupby([\n",
    "        'market_subcategory', 'eventdate'])['id'].count().reset_index()\n",
    "    df.rename(columns={'id': 'count'}, inplace=True)\n",
    "    mar_sub = list(set(df['market_subcategory']))\n",
    "    dict = {}\n",
    "    #tried to fit a line and get slope\n",
    "    for val in mar_sub:\n",
    "        df_sub = df[df['market_subcategory'] == val].reset_index()\n",
    "        index = list(df_sub['eventdate'])\n",
    "        values = list(df_sub['count'])\n",
    "        result = np.polyfit(index, list(values), deg=5) \n",
    "        slope = result[-2]\n",
    "        dict[val] = slope\n",
    "    marsub_neg_tend = []\n",
    "    for key, val in dict.items():\n",
    "        if val < 0:\n",
    "            marsub_neg_tend.append(key)\n",
    "            print(key+\" ,market sub cat has negative trend with  years\")\n",
    "    for val in marsub_neg_tend:\n",
    "        ax = plt.gca()\n",
    "        x = df[df['market_subcategory'] == val].reset_index()  \n",
    "        ax = sns.barplot(x=\"eventdate\", y=\"count\", data=x)\n",
    "        plt.title(\"market sub category showing negative trend \"+val)\n",
    "        plt.show()"
   ]
  },
  {
   "cell_type": "code",
   "execution_count": 135,
   "id": "68c976e5",
   "metadata": {},
   "outputs": [
    {
     "name": "stdout",
     "output_type": "stream",
     "text": [
      "Sports Drinks RTD ,market sub cat has negative trend with  years\n",
      "Sports Powders ,market sub cat has negative trend with  years\n",
      "Bottled Water - Flavoured ,market sub cat has negative trend with  years\n"
     ]
    },
    {
     "data": {
      "image/png": "[encoded data removed]",
      "text/plain": [
       "<Figure size 432x288 with 1 Axes>"
      ]
     },
     "metadata": {},
     "output_type": "display_data"
    },
    {
     "data": {
      "image/png": "[encoded data removed]",
      "text/plain": [
       "<Figure size 432x288 with 1 Axes>"
      ]
     },
     "metadata": {},
     "output_type": "display_data"
    },
    {
     "data": {
      "image/png": "[encoded data removed]",
      "text/plain": [
       "<Figure size 432x288 with 1 Axes>"
      ]
     },
     "metadata": {},
     "output_type": "display_data"
    }
   ],
   "source": [
    "warnings.filterwarnings(\"ignore\")\n",
    "histogram(df)"
   ]
  },
  {
   "cell_type": "markdown",
   "id": "77614655",
   "metadata": {},
   "source": [
    "Which market subcategory has highest unique flavors?"
   ]
  },
  {
   "cell_type": "code",
   "execution_count": 118,
   "id": "59259e25",
   "metadata": {},
   "outputs": [],
   "source": [
    "# market subcategory has highest unique flavors\n",
    "def subcat_high_uniq_flav(df):\n",
    "    df = df.groupby('market_subcategory')['flavor'].apply(list).reset_index()\n",
    "    maxi = 0\n",
    "    sub_cat = \"\"\n",
    "    res = []\n",
    "    for i in range(0, len(df)):\n",
    "        flavor_list = df['flavor'].loc[i]\n",
    "        dict = {}\n",
    "        count = 0\n",
    "        for s in flavor_list:\n",
    "            if type(s) == float:\n",
    "                continue\n",
    "            dict, _ = formatter(s, dict)\n",
    "        count = len(dict)\n",
    "        if count > maxi:\n",
    "            maxi = count\n",
    "            sub_cat = df['market_subcategory'].loc[i]\n",
    "        res.append([df['market_subcategory'].loc[i],count])\n",
    "    print(sub_cat+\": market subcategory has highest unique flavors = \" ,maxi)\n",
    "    return res"
   ]
  },
  {
   "cell_type": "code",
   "execution_count": 121,
   "id": "bf3970bb",
   "metadata": {},
   "outputs": [
    {
     "name": "stdout",
     "output_type": "stream",
     "text": [
      "Juice & Juice Drinks: market subcategory has highest unique flavors =  502\n"
     ]
    },
    {
     "data": {
      "image/png": "[encoded data removed]",
      "text/plain": [
       "<Figure size 720x360 with 1 Axes>"
      ]
     },
     "metadata": {},
     "output_type": "display_data"
    }
   ],
   "source": [
    "df = pd.read_csv('Product Launch Dataset.csv', encoding='latin-1')\n",
    "res=subcat_high_uniq_flav(df)\n",
    "res = pd.DataFrame(res,columns = [\"sub cat\",\"count\"])\n",
    "plt.figure(figsize=(10,5))\n",
    "\n",
    "ax = sns.barplot( data=res,x=\"sub cat\",y=\"count\")\n",
    "_ = ax.set_xticklabels(ax.get_xticklabels(), rotation=90)"
   ]
  },
  {
   "cell_type": "markdown",
   "id": "c797199a",
   "metadata": {},
   "source": [
    "# 2. Data Exploration: Merging and Manipulating Datasets"
   ]
  },
  {
   "cell_type": "markdown",
   "id": "c5ec0e5f",
   "metadata": {},
   "source": [
    "number of product launches over different quarters for “fruit” \n",
    "Flavor?"
   ]
  },
  {
   "cell_type": "code",
   "execution_count": 64,
   "id": "af6c37f5",
   "metadata": {},
   "outputs": [],
   "source": [
    "# on the number of product launches over different quarters for “fruit” flavor\n",
    "# no of fruit flav launches\n",
    "def no_of_prod_launch(df):\n",
    "    df['eventdate'] = pd.to_datetime(df['eventdate'], format='%m-%d-%Y')\n",
    "    df['fruit flavor'] = \"No\"\n",
    "    fc = pd.read_csv('Flavor Classification Dataset.csv', encoding='latin-1')\n",
    "    fc = fc[fc['Flavor_Group'] == 'Fruit'].reset_index()\n",
    "    fruit_flav = []\n",
    "    for i in range(0, len(fc)):\n",
    "        fruit_flav.append(fc['flavor'].loc[i].strip())\n",
    "    for i in range(0, len(df)):\n",
    "        flav_list = df['flavor'].loc[i]\n",
    "        flag = 0\n",
    "        if type(flav_list) == float:\n",
    "            continue\n",
    "        _, frmt_flav_list = formatter(flav_list,{})\n",
    "        for val in frmt_flav_list:\n",
    "            for j in range(0, len(fruit_flav)):\n",
    "                if val.strip().lower() == fruit_flav[j].strip().lower():\n",
    "                    df['fruit flavor'].loc[i] = \"Yes\"\n",
    "                    flag = 1\n",
    "                    break\n",
    "            if flag == 1:\n",
    "                break\n",
    "    df = df[df['fruit flavor'] == \"Yes\"].reset_index()\n",
    "    df = df.groupby(df['eventdate'].dt.to_period('Q'))['id'].count().reset_index()\n",
    "    df.rename(\n",
    "    columns={\"id\":\"count\"})\n",
    "    return df"
   ]
  },
  {
   "cell_type": "code",
   "execution_count": 136,
   "id": "39af082c",
   "metadata": {},
   "outputs": [
    {
     "data": {
      "image/png": "[encoded data removed]",
      "text/plain": [
       "<Figure size 720x360 with 1 Axes>"
      ]
     },
     "metadata": {},
     "output_type": "display_data"
    }
   ],
   "source": [
    "df = pd.read_csv('Product Launch Dataset.csv', encoding='latin-1')\n",
    "warnings.filterwarnings(\"ignore\")\n",
    "x = no_of_prod_launch(df)\n",
    "plt.figure(figsize=(10,5))\n",
    "ax = sns.barplot( data=x,x=\"eventdate\",y=\"id\")\n",
    "_ = ax.set_xticklabels(ax.get_xticklabels(), rotation=90)\n"
   ]
  },
  {
   "cell_type": "markdown",
   "id": "52fea7ee",
   "metadata": {},
   "source": [
    "# 3. Data Formatting, Merging and Manipulating Dataset"
   ]
  },
  {
   "cell_type": "code",
   "execution_count": 24,
   "id": "44d06134",
   "metadata": {},
   "outputs": [],
   "source": [
    "def MapPositioningCategory(df):\n",
    "    df_pos_map = pd.read_csv('Positioning Category Mapping Dataset.csv',\n",
    "                             encoding='latin-1')\n",
    "    df['Positioning Group'] = \"\"\n",
    "    map = {}\n",
    "    for i in range(0, len(df_pos_map)):\n",
    "        pos_subgrp = df_pos_map['Positioning Subcategory'].loc[i]\n",
    "        pos_grp = df_pos_map['Positioning Group'].loc[i]\n",
    "        map[str(pos_subgrp)] = str(pos_grp)\n",
    "    for i in range(0, len(df)):\n",
    "        pos_sub_grp = df['positioning'].loc[i]\n",
    "        regex = str(pos_sub_grp).split(',')\n",
    "        for j in range(0, len(regex)):\n",
    "            if map.get(regex[j].strip()) is not None:\n",
    "                df['Positioning Group'].loc[i] = map.get(regex[j].strip())\n",
    "                break\n",
    "    return df"
   ]
  },
  {
   "cell_type": "markdown",
   "id": "e60dafcd",
   "metadata": {},
   "source": [
    "insights on the distribution for “Convenience” & “Ethical Positioning”\n",
    "Groups"
   ]
  },
  {
   "cell_type": "code",
   "execution_count": 88,
   "id": "290cb955",
   "metadata": {},
   "outputs": [],
   "source": [
    "#total no of products\n",
    "#total no of flavors\n",
    "#no of flavors with years\n",
    "#no of products of convinece and ethical positioning with years\n",
    "#avg of no of flavours for convenience and Ethical positioning for each country\n",
    "def position_distribution(df):\n",
    "    position_df = pd.read_csv('Positioning Category Mapping Dataset.csv' , encoding = 'latin-1')\n",
    "    position_df = position_df[(position_df['Positioning Group']=='Convenience') | \n",
    "                              (position_df['Positioning Group']== 'Ethical')]\n",
    "    position_df['count'] = 0\n",
    "    \n",
    "    for i in range(0,len(position_df)):\n",
    "        count  = 0\n",
    "        temp = position_df['Positioning Subcategory'].iloc[i]\n",
    "        for j in range(0,len(df)):\n",
    "            temp2 = df['positioning'].iloc[j]\n",
    "            list = str(temp2).split(',')\n",
    "            for k in range(0,len(list)):\n",
    "                if temp == list[k].strip():\n",
    "                    count = count +1\n",
    "        position_df['count'].iloc[i] = count \n",
    "            \n",
    "    return position_df"
   ]
  },
  {
   "cell_type": "code",
   "execution_count": 101,
   "id": "f37d152f",
   "metadata": {},
   "outputs": [
    {
     "data": {
      "image/png": "[encoded data removed]",
      "text/plain": [
       "<Figure size 720x360 with 1 Axes>"
      ]
     },
     "metadata": {},
     "output_type": "display_data"
    }
   ],
   "source": [
    "df = pd.read_csv('Product Launch Dataset.csv', encoding='latin-1')\n",
    "x = position_distribution(df)\n",
    "plt.figure(figsize=(10,5))\n",
    "ax = sns.barplot(x=\"Positioning Subcategory\", y=\"count\", data=x)\n",
    "_ = ax.set_xticklabels(ax.get_xticklabels(), rotation=45)"
   ]
  },
  {
   "cell_type": "code",
   "execution_count": 33,
   "id": "a08de6ac",
   "metadata": {},
   "outputs": [],
   "source": [
    "def pos_dis_across_countries(df):\n",
    "    position_df = pd.read_csv('Positioning Category Mapping Dataset.csv' , encoding = 'latin-1')\n",
    "    \n",
    "    pos_df_cons = position_df[position_df['Positioning Group']=='Convenience'].reset_index()\n",
    "    pos_df_eth = position_df[position_df['Positioning Group']=='Ethical'].reset_index()\n",
    "    \n",
    "    dict_cons = {}\n",
    "    dict_eth = {}\n",
    "    \n",
    "    for i in range(0, len(pos_df_cons)):\n",
    "        pos_subgrp = pos_df_cons['Positioning Subcategory'].loc[i]\n",
    "        pos_grp = pos_df_cons['Positioning Group'].loc[i]\n",
    "        dict_cons[str(pos_subgrp).strip().lower()] = str(pos_grp).strip().lower()\n",
    "    \n",
    "    for i in range(0, len(pos_df_eth)):\n",
    "        pos_subgrp = pos_df_eth['Positioning Subcategory'].loc[i]\n",
    "        pos_grp =  pos_df_eth['Positioning Group'].loc[i]\n",
    "        dict_eth[str(pos_subgrp).strip().lower()] = str(pos_grp).strip().lower()\n",
    "        \n",
    "    df['count of Convenience'] = 0\n",
    "    df['count of ethical'] = 0\n",
    "    df['total count of conv and eth'] = 0\n",
    "    \n",
    "    for i in range(0,len(df)):\n",
    "        if type(df['positioning'].loc[i]) == float:\n",
    "            continue\n",
    "        groups = df['positioning'].loc[i].split(',')\n",
    "        for val in groups:\n",
    "            val = val.strip().lower()\n",
    "            if dict_cons.get(val) != None:\n",
    "                df['count of Convenience'].loc[i] = df['count of Convenience'].loc[i]+1\n",
    "            if dict_eth.get(val)!=None:\n",
    "                df['count of ethical'].loc[i] = df['count of ethical'].loc[i]+1\n",
    "        df['total count of conv and eth'] = df['count of Convenience'].loc[i]+df['count of ethical'].loc[i] \n",
    "    \n",
    "    return df.groupby('country')['count of Convenience','count of ethical'].sum()"
   ]
  },
  {
   "cell_type": "code",
   "execution_count": 34,
   "id": "6f9f9e82",
   "metadata": {},
   "outputs": [
    {
     "data": {
      "text/html": [
       "<div>\n",
       "<style scoped>\n",
       "    .dataframe tbody tr th:only-of-type {\n",
       "        vertical-align: middle;\n",
       "    }\n",
       "\n",
       "    .dataframe tbody tr th {\n",
       "        vertical-align: top;\n",
       "    }\n",
       "\n",
       "    .dataframe thead th {\n",
       "        text-align: right;\n",
       "    }\n",
       "</style>\n",
       "<table border=\"1\" class=\"dataframe\">\n",
       "  <thead>\n",
       "    <tr style=\"text-align: right;\">\n",
       "      <th></th>\n",
       "      <th>count of Convenience</th>\n",
       "      <th>count of ethical</th>\n",
       "    </tr>\n",
       "    <tr>\n",
       "      <th>country</th>\n",
       "      <th></th>\n",
       "      <th></th>\n",
       "    </tr>\n",
       "  </thead>\n",
       "  <tbody>\n",
       "    <tr>\n",
       "      <th>Albania</th>\n",
       "      <td>36</td>\n",
       "      <td>17</td>\n",
       "    </tr>\n",
       "    <tr>\n",
       "      <th>Algeria</th>\n",
       "      <td>51</td>\n",
       "      <td>28</td>\n",
       "    </tr>\n",
       "    <tr>\n",
       "      <th>Angola</th>\n",
       "      <td>3</td>\n",
       "      <td>0</td>\n",
       "    </tr>\n",
       "    <tr>\n",
       "      <th>Argentina</th>\n",
       "      <td>880</td>\n",
       "      <td>346</td>\n",
       "    </tr>\n",
       "    <tr>\n",
       "      <th>Australia</th>\n",
       "      <td>1172</td>\n",
       "      <td>468</td>\n",
       "    </tr>\n",
       "    <tr>\n",
       "      <th>...</th>\n",
       "      <td>...</td>\n",
       "      <td>...</td>\n",
       "    </tr>\n",
       "    <tr>\n",
       "      <th>United States</th>\n",
       "      <td>13435</td>\n",
       "      <td>2434</td>\n",
       "    </tr>\n",
       "    <tr>\n",
       "      <th>Uruguay</th>\n",
       "      <td>92</td>\n",
       "      <td>2</td>\n",
       "    </tr>\n",
       "    <tr>\n",
       "      <th>Venezuela</th>\n",
       "      <td>36</td>\n",
       "      <td>0</td>\n",
       "    </tr>\n",
       "    <tr>\n",
       "      <th>Vietnam</th>\n",
       "      <td>763</td>\n",
       "      <td>157</td>\n",
       "    </tr>\n",
       "    <tr>\n",
       "      <th>Zambia</th>\n",
       "      <td>0</td>\n",
       "      <td>0</td>\n",
       "    </tr>\n",
       "  </tbody>\n",
       "</table>\n",
       "<p>109 rows × 2 columns</p>\n",
       "</div>"
      ],
      "text/plain": [
       "               count of Convenience  count of ethical\n",
       "country                                              \n",
       "Albania                          36                17\n",
       "Algeria                          51                28\n",
       "Angola                            3                 0\n",
       "Argentina                       880               346\n",
       "Australia                      1172               468\n",
       "...                             ...               ...\n",
       "United States                 13435              2434\n",
       "Uruguay                          92                 2\n",
       "Venezuela                        36                 0\n",
       "Vietnam                         763               157\n",
       "Zambia                            0                 0\n",
       "\n",
       "[109 rows x 2 columns]"
      ]
     },
     "execution_count": 34,
     "metadata": {},
     "output_type": "execute_result"
    }
   ],
   "source": [
    "df = pd.read_csv('Product Launch Dataset.csv', encoding='latin-1')\n",
    "pos_dis_across_countries(df)"
   ]
  },
  {
   "cell_type": "markdown",
   "id": "79a6656e",
   "metadata": {},
   "source": [
    "# 4. Data Aggregation"
   ]
  },
  {
   "cell_type": "code",
   "execution_count": null,
   "id": "6fa0c76c",
   "metadata": {},
   "outputs": [],
   "source": [
    "#in excel"
   ]
  },
  {
   "cell_type": "markdown",
   "id": "c87301b8",
   "metadata": {},
   "source": [
    "# 5. Data Exploration: Filtering and Subsetting "
   ]
  },
  {
   "cell_type": "markdown",
   "id": "e6a8703d",
   "metadata": {},
   "source": [
    "Data of Canadian market for the year 2013 about Energy drinks with ethical packaging"
   ]
  },
  {
   "cell_type": "code",
   "execution_count": 20,
   "id": "a1cc5f20",
   "metadata": {},
   "outputs": [],
   "source": [
    "def data_for_client(df):\n",
    "    # filtering country\n",
    "    df = df[df['country'] == 'Canada']\n",
    "    # filtering date\n",
    "    regex = '2013.*'\n",
    "    df = df[df.eventdate.str.contains(regex, na=False)]\n",
    "    # filtering positioning\n",
    "    regex = 'Ethical - Packaging.*'\n",
    "    df = df[df.positioning.str.contains(regex, na=False)]\n",
    "    # filering market subcategory\n",
    "    regex = 'Energy Drinks.*'\n",
    "    df = df[df.market_subcategory.str.contains(regex, na=False)].reset_index()\n",
    "    return df"
   ]
  },
  {
   "cell_type": "code",
   "execution_count": 21,
   "id": "e2a3954b",
   "metadata": {},
   "outputs": [
    {
     "data": {
      "text/html": [
       "<div>\n",
       "<style scoped>\n",
       "    .dataframe tbody tr th:only-of-type {\n",
       "        vertical-align: middle;\n",
       "    }\n",
       "\n",
       "    .dataframe tbody tr th {\n",
       "        vertical-align: top;\n",
       "    }\n",
       "\n",
       "    .dataframe thead th {\n",
       "        text-align: right;\n",
       "    }\n",
       "</style>\n",
       "<table border=\"1\" class=\"dataframe\">\n",
       "  <thead>\n",
       "    <tr style=\"text-align: right;\">\n",
       "      <th></th>\n",
       "      <th>index</th>\n",
       "      <th>market_subcategory</th>\n",
       "      <th>id</th>\n",
       "      <th>eventdate</th>\n",
       "      <th>country</th>\n",
       "      <th>positioning</th>\n",
       "      <th>region</th>\n",
       "      <th>flavor</th>\n",
       "    </tr>\n",
       "  </thead>\n",
       "  <tbody>\n",
       "    <tr>\n",
       "      <th>0</th>\n",
       "      <td>82404</td>\n",
       "      <td>Energy Drinks</td>\n",
       "      <td>82405</td>\n",
       "      <td>01-11-2013</td>\n",
       "      <td>Canada</td>\n",
       "      <td>Organic, Energy/Alertness, Ethical - Human, Et...</td>\n",
       "      <td>North America</td>\n",
       "      <td>Berry, Not specified; Tea, Green; Tea, Mate</td>\n",
       "    </tr>\n",
       "    <tr>\n",
       "      <th>1</th>\n",
       "      <td>82405</td>\n",
       "      <td>Energy Drinks</td>\n",
       "      <td>82406</td>\n",
       "      <td>01-11-2013</td>\n",
       "      <td>Canada</td>\n",
       "      <td>Brain Health, Energy/Alertness, Ethical - Pack...</td>\n",
       "      <td>North America</td>\n",
       "      <td>Citrus, Not Specified</td>\n",
       "    </tr>\n",
       "    <tr>\n",
       "      <th>2</th>\n",
       "      <td>82439</td>\n",
       "      <td>Energy Drinks</td>\n",
       "      <td>82440</td>\n",
       "      <td>01-11-2013</td>\n",
       "      <td>Canada</td>\n",
       "      <td>Brain Health, Energy/Alertness, Ethical - Pack...</td>\n",
       "      <td>North America</td>\n",
       "      <td>Cherry, Not Specified</td>\n",
       "    </tr>\n",
       "    <tr>\n",
       "      <th>3</th>\n",
       "      <td>82440</td>\n",
       "      <td>Energy Drinks</td>\n",
       "      <td>82441</td>\n",
       "      <td>01-11-2013</td>\n",
       "      <td>Canada</td>\n",
       "      <td>Brain Health, Energy/Alertness, Ethical - Pack...</td>\n",
       "      <td>North America</td>\n",
       "      <td>Berry, Mixed</td>\n",
       "    </tr>\n",
       "  </tbody>\n",
       "</table>\n",
       "</div>"
      ],
      "text/plain": [
       "   index market_subcategory     id   eventdate country  \\\n",
       "0  82404      Energy Drinks  82405  01-11-2013  Canada   \n",
       "1  82405      Energy Drinks  82406  01-11-2013  Canada   \n",
       "2  82439      Energy Drinks  82440  01-11-2013  Canada   \n",
       "3  82440      Energy Drinks  82441  01-11-2013  Canada   \n",
       "\n",
       "                                         positioning         region  \\\n",
       "0  Organic, Energy/Alertness, Ethical - Human, Et...  North America   \n",
       "1  Brain Health, Energy/Alertness, Ethical - Pack...  North America   \n",
       "2  Brain Health, Energy/Alertness, Ethical - Pack...  North America   \n",
       "3  Brain Health, Energy/Alertness, Ethical - Pack...  North America   \n",
       "\n",
       "                                        flavor  \n",
       "0  Berry, Not specified; Tea, Green; Tea, Mate  \n",
       "1                        Citrus, Not Specified  \n",
       "2                        Cherry, Not Specified  \n",
       "3                                 Berry, Mixed  "
      ]
     },
     "execution_count": 21,
     "metadata": {},
     "output_type": "execute_result"
    }
   ],
   "source": [
    "df = pd.read_csv('Product Launch Dataset.csv', encoding='latin-1')\n",
    "data_for_client(df)"
   ]
  },
  {
   "cell_type": "markdown",
   "id": "1b659250",
   "metadata": {},
   "source": [
    " Identify TOP 5 unique flavors across countries in 2013"
   ]
  },
  {
   "cell_type": "code",
   "execution_count": 29,
   "id": "111a253a",
   "metadata": {},
   "outputs": [],
   "source": [
    "# TOP 5 unique flavors across each countries in 2013\n",
    "def top_uniq_flav(df, year='2013'):\n",
    "    regex = '2013.*'\n",
    "    df = df[df.eventdate.str.contains(regex, na=False)].reset_index()\n",
    "    df = df.groupby('country')['flavor'].apply(list).reset_index()\n",
    "    df[\"Top 5 unique flavor\"] = \"\"\n",
    "    for i in range(0, len(df)):\n",
    "        flavor_list = df['flavor'].loc[i]\n",
    "        dict = {}\n",
    "        for s in flavor_list:\n",
    "            if type(s) == float:\n",
    "                continue\n",
    "            dict, _ = formatter(s, dict)\n",
    "            flavors = []\n",
    "            for val, key in dict.items():\n",
    "                flavors.append([val, key])\n",
    "            flavors = sorted(flavors, key=lambda x: x[1], reverse=True)\n",
    "            df[\"Top 5 unique flavor\"].loc[i] = flavors[0:5]\n",
    "    return df[['country','Top 5 unique flavor']].head(5)\n"
   ]
  },
  {
   "cell_type": "code",
   "execution_count": 30,
   "id": "0dbab4d3",
   "metadata": {},
   "outputs": [
    {
     "data": {
      "text/html": [
       "<div>\n",
       "<style scoped>\n",
       "    .dataframe tbody tr th:only-of-type {\n",
       "        vertical-align: middle;\n",
       "    }\n",
       "\n",
       "    .dataframe tbody tr th {\n",
       "        vertical-align: top;\n",
       "    }\n",
       "\n",
       "    .dataframe thead th {\n",
       "        text-align: right;\n",
       "    }\n",
       "</style>\n",
       "<table border=\"1\" class=\"dataframe\">\n",
       "  <thead>\n",
       "    <tr style=\"text-align: right;\">\n",
       "      <th></th>\n",
       "      <th>country</th>\n",
       "      <th>Top 5 unique flavor</th>\n",
       "    </tr>\n",
       "  </thead>\n",
       "  <tbody>\n",
       "    <tr>\n",
       "      <th>0</th>\n",
       "      <td>Albania</td>\n",
       "      <td>[[unflavored, 8], [apple, red, 3], [banana, 2]...</td>\n",
       "    </tr>\n",
       "    <tr>\n",
       "      <th>1</th>\n",
       "      <td>Algeria</td>\n",
       "      <td>[[orange, 9], [apple, red, 4], [unflavored, 4]...</td>\n",
       "    </tr>\n",
       "    <tr>\n",
       "      <th>2</th>\n",
       "      <td>Angola</td>\n",
       "      <td>[[orange, 1], [cola, 1]]</td>\n",
       "    </tr>\n",
       "    <tr>\n",
       "      <th>3</th>\n",
       "      <td>Argentina</td>\n",
       "      <td>[[orange, 55], [lemon, 30], [apple, red, 26], ...</td>\n",
       "    </tr>\n",
       "    <tr>\n",
       "      <th>4</th>\n",
       "      <td>Australia</td>\n",
       "      <td>[[apple, red, 61], [orange, 33], [mango, 20], ...</td>\n",
       "    </tr>\n",
       "  </tbody>\n",
       "</table>\n",
       "</div>"
      ],
      "text/plain": [
       "     country                                Top 5 unique flavor\n",
       "0    Albania  [[unflavored, 8], [apple, red, 3], [banana, 2]...\n",
       "1    Algeria  [[orange, 9], [apple, red, 4], [unflavored, 4]...\n",
       "2     Angola                           [[orange, 1], [cola, 1]]\n",
       "3  Argentina  [[orange, 55], [lemon, 30], [apple, red, 26], ...\n",
       "4  Australia  [[apple, red, 61], [orange, 33], [mango, 20], ..."
      ]
     },
     "execution_count": 30,
     "metadata": {},
     "output_type": "execute_result"
    }
   ],
   "source": [
    "df = pd.read_csv('Product Launch Dataset.csv', encoding='latin-1')\n",
    "top_uniq_flav(df, year='2013')"
   ]
  },
  {
   "cell_type": "code",
   "execution_count": 71,
   "id": "b7e9fd84",
   "metadata": {},
   "outputs": [],
   "source": [
    "def top_uniq_flav_among_all_cntry(df, year='2013'):\n",
    "    regex = '2013.*'\n",
    "    df = df[df.eventdate.str.contains(regex, na=False)].reset_index()\n",
    "    df = df['flavor'].to_list()\n",
    "    dict = {}\n",
    "    for i in range(0, len(df)):\n",
    "        s = str(df[i])\n",
    "        dict, _ = formatter(s, dict)\n",
    "    flavors = []\n",
    "    for val, key in dict.items():\n",
    "        flavors.append([val, key])\n",
    "    flavors = sorted(flavors, key=lambda x: x[1], reverse=True)\n",
    "    return flavors[0:5]\n",
    "    "
   ]
  },
  {
   "cell_type": "code",
   "execution_count": 100,
   "id": "246fde63",
   "metadata": {},
   "outputs": [
    {
     "name": "stdout",
     "output_type": "stream",
     "text": [
      "top 5 flavors\n"
     ]
    },
    {
     "data": {
      "image/png": "[encoded data removed]",
      "text/plain": [
       "<Figure size 720x360 with 1 Axes>"
      ]
     },
     "metadata": {},
     "output_type": "display_data"
    }
   ],
   "source": [
    "df = pd.read_csv('Product Launch Dataset.csv', encoding='latin-1')\n",
    "print(\"top 5 flavors\")\n",
    "flav = top_uniq_flav_among_all_cntry(df)\n",
    "flav = pd.DataFrame(flav,columns=[\"flavor\",\"count\"])\n",
    "#flav.plot.bar(x=\"flavor\",y=\"count\")\n",
    "#tips = sns.load_dataset(flav)\n",
    "plt.figure(figsize=(10,5))\n",
    "ax = sns.barplot(x=\"flavor\", y=\"count\", data=flav)\n",
    "_ = ax.set_xticklabels(ax.get_xticklabels(), rotation=45)\n"
   ]
  },
  {
   "cell_type": "markdown",
   "id": "b794e2cb",
   "metadata": {},
   "source": [
    "# 6. Hypothesis Testing: TOP 5 Positioning Groups"
   ]
  },
  {
   "cell_type": "code",
   "execution_count": 38,
   "id": "ee1ff1ed",
   "metadata": {},
   "outputs": [],
   "source": [
    "def top_five(df):\n",
    "    regex = '2013.*'\n",
    "    df = df[df.eventdate.str.contains(regex, na=False)].reset_index()\n",
    "    df_pos_map = pd.read_csv('Positioning Category Mapping Dataset.csv',\n",
    "                             encoding='latin-1')\n",
    "    map = {}\n",
    "    dict = {}\n",
    "\n",
    "    for i in range(0, len(df_pos_map)):\n",
    "        pos_subgrp = df_pos_map['Positioning Subcategory'].loc[i]\n",
    "        pos_grp = df_pos_map['Positioning Group'].loc[i]\n",
    "        map[str(pos_subgrp)] = str(pos_grp)\n",
    "    \n",
    "    for i in range(0,len(df)):\n",
    "        pos = df['positioning'].loc[i]\n",
    "        pos =str(pos).split(',')\n",
    "        reg = df['region'].loc[i]\n",
    "        temp = {}\n",
    "        for val in pos:\n",
    "            val =  val.strip()\n",
    "            if map.get(val)!=None:\n",
    "                temp[(map.get(val),reg)]=1\n",
    "        for key,val in temp.items():\n",
    "            if dict.get(key)==None:\n",
    "                dict[key] = val\n",
    "            else:\n",
    "                dict[key] = dict.get(key)+1\n",
    "               \n",
    "    posi = []\n",
    "    temp = []\n",
    "    for key,val in dict.items():\n",
    "        temp.append([key[1],key[0],val])\n",
    "    countries_pos = pd.DataFrame(list(temp),columns=['country', 'position', 'total product launches'])\n",
    "    countries_pos\n",
    "    print(countries_pos)\n",
    "    mean_of_pop =  countries_pos['total product launches'].mean()\n",
    "    top_five_acc_cntry = countries_pos.groupby('position')['total product launches'].sum().nlargest(5).reset_index()\n",
    "    return top_five_acc_cntry,mean_of_pop\n",
    "    \n"
   ]
  },
  {
   "cell_type": "code",
   "execution_count": 76,
   "id": "7f20c9ef",
   "metadata": {},
   "outputs": [
    {
     "name": "stdout",
     "output_type": "stream",
     "text": [
      "          country                   position  total product launches\n",
      "0     West Europe                   Pleasure                     397\n",
      "1     West Europe                Convenience                    3190\n",
      "2     West Europe                    Ethical                    1930\n",
      "3     West Europe           Health (Passive)                    2988\n",
      "4     West Europe                      Juice                     928\n",
      "..            ...                        ...                     ...\n",
      "94    Australasia                   Pleasure                      63\n",
      "95    Australasia                        Age                      25\n",
      "96  North America                     Gender                       5\n",
      "97  North America  Convenience  Preparation                       5\n",
      "98           Asia    Convenience  Packaging                       1\n",
      "\n",
      "[99 rows x 3 columns]\n"
     ]
    },
    {
     "data": {
      "image/png": "[encoded data removed]",
      "text/plain": [
       "<Figure size 432x288 with 1 Axes>"
      ]
     },
     "metadata": {},
     "output_type": "display_data"
    }
   ],
   "source": [
    "df = pd.read_csv('Product Launch Dataset.csv', encoding='latin-1')\n",
    "top_five_acc_cntry,mean_of_pop = top_five(df)\n",
    "top_five_acc_cntry.plot.bar(x='position',y='total product launches')\n",
    "ax = sns.barplot(x='position',y='total product launches', data=top_five_acc_cntry)"
   ]
  },
  {
   "cell_type": "code",
   "execution_count": 199,
   "id": "ae27efc4",
   "metadata": {},
   "outputs": [],
   "source": [
    "#hypothesis u = x\n",
    "#hypothesis u != x\n",
    "def Hypothesis_Testing(df,u):\n",
    "    a = 0.05\n",
    "    x = df['total product launches'].mean()\n",
    "    s = df['total product launches'].std()\n",
    "    n = len(df)\n",
    "    t = (x - u)/(s/pow(n,1/2))\n",
    "    cv = 2.776 # for n= 4 and 95% confidence\n",
    "    print(\"t - stat\")\n",
    "    print(\"x = \",x)\n",
    "    print(\"s = \",s)\n",
    "    print(\"n = \",n)\n",
    "    print(\"t = \",t)\n",
    "    print(\"critical value = \",cv)\n",
    "    print(\"Level of significance = \",a)\n",
    "    if t >= cv:\n",
    "        print(\"Reject H0 i.e mean of population  not equal to mean of sample\")\n",
    "    else:\n",
    "        print(\"Reject H0 i.e mean of population   equal to mean of sample\")\n",
    "    return\n",
    "    "
   ]
  },
  {
   "cell_type": "code",
   "execution_count": 200,
   "id": "0810f2f9",
   "metadata": {},
   "outputs": [
    {
     "name": "stdout",
     "output_type": "stream",
     "text": [
      "t - stat\n",
      "x =  6783.8\n",
      "s =  4395.60140367618\n",
      "n =  5\n",
      "t =  3.244017985320419\n",
      "critical value =  2.776\n",
      "Level of significance =  0.05\n",
      "Reject H0 i.e mean of population  not equal to mean of sample\n"
     ]
    }
   ],
   "source": [
    "Hypothesis_Testing(top_five_acc_cntry,mean_of_pop)"
   ]
  }
 ],
 "metadata": {
  "kernelspec": {
   "display_name": "Python 3 (ipykernel)",
   "language": "python",
   "name": "python3"
  },
  "language_info": {
   "codemirror_mode": {
    "name": "ipython",
    "version": 3
   },
   "file_extension": ".py",
   "mimetype": "text/x-python",
   "name": "python",
   "nbconvert_exporter": "python",
   "pygments_lexer": "ipython3",
   "version": "3.9.7"
  }
 },
 "nbformat": 4,
 "nbformat_minor": 5
}
